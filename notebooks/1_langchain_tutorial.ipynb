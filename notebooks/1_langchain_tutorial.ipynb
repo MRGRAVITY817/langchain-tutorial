{
 "cells": [
  {
   "cell_type": "code",
   "execution_count": 4,
   "metadata": {},
   "outputs": [
    {
     "data": {
      "text/plain": [
       "('\\n\\nThere are 8 planets in the solar system: Mercury, Venus, Earth, Mars, Jupiter, Saturn, Uranus, and Neptune.',\n",
       " 'There are 8 planets in the solar system: Mercury, Venus, Earth, Mars, Jupiter, Saturn, Uranus, and Neptune.')"
      ]
     },
     "execution_count": 4,
     "metadata": {},
     "output_type": "execute_result"
    }
   ],
   "source": [
    "from langchain.llms.openai import OpenAI\n",
    "from langchain.chat_models import ChatOpenAI\n",
    "\n",
    "llm = OpenAI(model_name=\"gpt-3.5-turbo-instruct\")\n",
    "chat = ChatOpenAI(model_name=\"gpt-3.5-turbo\")\n",
    "\n",
    "a = llm.predict(\"How many planets are there in the solar system?\")\n",
    "b = chat.predict(\"How many planets are there in the solar system?\")\n",
    "\n",
    "a, b"
   ]
  },
  {
   "cell_type": "code",
   "execution_count": 5,
   "metadata": {},
   "outputs": [
    {
     "data": {
      "text/plain": [
       "AIMessage(content='We have a variety of toppings available for our pizzas. Some popular options include classic Margherita with tomato sauce, fresh mozzarella, and basil, or a Quattro Stagioni with artichokes, mushrooms, ham, and olives. We also have options like Prosciutto e Rucola with prosciutto, arugula, and shaved Parmesan, or a Diavola with spicy salami and chili flakes. Feel free to customize your pizza with any toppings you prefer!')"
      ]
     },
     "execution_count": 5,
     "metadata": {},
     "output_type": "execute_result"
    }
   ],
   "source": [
    "from langchain.schema import HumanMessage, AIMessage, SystemMessage\n",
    "\n",
    "messages = [\n",
    "\tSystemMessage(content=\"You are a professional italian chef.\"),\n",
    "\tAIMessage(content=\"Welcome to the italian restaurant. What would you like to order?\"),\n",
    "\tHumanMessage(content=\"I'd like to order a pizza. What are the toppings?\"),\n",
    "]\n",
    "\n",
    "chat.predict_messages(messages)"
   ]
  },
  {
   "cell_type": "code",
   "execution_count": 6,
   "metadata": {},
   "outputs": [
    {
     "data": {
      "text/plain": [
       "'The distance between Earth and Mars varies depending on their positions in their respective orbits. On average, the distance between Earth and Mars is about 225 million kilometers (140 million miles). However, this distance can range from about 54.6 million kilometers (33.9 million miles) when the two planets are at their closest approach (opposition) to about 401 million kilometers (249 million miles) when they are at their farthest apart (conjunction).'"
      ]
     },
     "execution_count": 6,
     "metadata": {},
     "output_type": "execute_result"
    }
   ],
   "source": [
    "chat = ChatOpenAI(model_name=\"gpt-3.5-turbo\", temperature=0.1)\n",
    "\n",
    "from langchain.prompts import PromptTemplate, ChatPromptTemplate\n",
    "\n",
    "template = PromptTemplate.from_template(\"What is the distance between the {planet_a} and the {planet_b}?\",)\n",
    "\n",
    "prompt = template.format(planet_a=\"Earth\", planet_b=\"Mars\")\n",
    "\n",
    "chat.predict(prompt)"
   ]
  },
  {
   "cell_type": "code",
   "execution_count": 7,
   "metadata": {},
   "outputs": [
    {
     "data": {
      "text/plain": [
       "AIMessage(content='For a classic Italian pizza, we typically use a thin crust topped with tomato sauce, mozzarella cheese, and various toppings such as pepperoni, mushrooms, bell peppers, onions, olives, and basil. Is there a specific type of pizza you have in mind or any dietary restrictions I should be aware of?')"
      ]
     },
     "execution_count": 7,
     "metadata": {},
     "output_type": "execute_result"
    }
   ],
   "source": [
    "template = ChatPromptTemplate.from_messages([\n",
    "\t(\"system\", \"You are a professional {nationality} chef.\"),\n",
    "\t(\"ai\", \"Welcome to the {nationality} restaurant. What would you like to order?\"),\n",
    "\t(\"human\", \"I'd like to order a {food}. What are the ingredients?\"),\n",
    "])\n",
    "\n",
    "prompt = template.format_messages(nationality=\"italian\", food=\"pizza\")\n",
    "\n",
    "chat.predict_messages(prompt)"
   ]
  },
  {
   "cell_type": "code",
   "execution_count": 8,
   "metadata": {},
   "outputs": [
    {
     "data": {
      "text/plain": [
       "['Hello', 'how', 'are', 'you?']"
      ]
     },
     "execution_count": 8,
     "metadata": {},
     "output_type": "execute_result"
    }
   ],
   "source": [
    "from langchain.schema import BaseOutputParser\n",
    "\n",
    "class CommaOutputParser(BaseOutputParser):\n",
    "\tdef parse(self, text: str) -> str:\n",
    "\t\titems = text.strip().split(\",\")\n",
    "\t\treturn list(map(str.strip, items))\n",
    "\n",
    "p = CommaOutputParser()\n",
    "\n",
    "p.parse(\"Hello,how,are,you?\")"
   ]
  },
  {
   "cell_type": "code",
   "execution_count": 12,
   "metadata": {},
   "outputs": [
    {
     "data": {
      "text/plain": [
       "['red',\n",
       " 'blue',\n",
       " 'green',\n",
       " 'yellow',\n",
       " 'orange',\n",
       " 'purple',\n",
       " 'black',\n",
       " 'white',\n",
       " 'pink',\n",
       " 'brown']"
      ]
     },
     "execution_count": 12,
     "metadata": {},
     "output_type": "execute_result"
    }
   ],
   "source": [
    "template = ChatPromptTemplate.from_messages([\n",
    "\t(\"system\", \"\"\"You are a list generating machine. \n",
    "\tEverything you are asked will be answered with a comma separated list of max {max_items}, in lowercase. Do not reply with anything else.\n",
    "\t\"\"\"),\n",
    "\t(\"human\", \"{question}\")\n",
    "])\n",
    "\n",
    "prompt = template.format_messages(\n",
    "\tmax_items=10,\n",
    "\tquestion=\"What are the colors?\"\n",
    ")\n",
    "\n",
    "output = chat.predict_messages(prompt)\n",
    "\n",
    "p.parse(output.content)"
   ]
  },
  {
   "cell_type": "code",
   "execution_count": 14,
   "metadata": {},
   "outputs": [
    {
     "data": {
      "text/plain": [
       "['red',\n",
       " 'blue',\n",
       " 'green',\n",
       " 'yellow',\n",
       " 'orange',\n",
       " 'purple',\n",
       " 'pink',\n",
       " 'black',\n",
       " 'white',\n",
       " 'brown']"
      ]
     },
     "execution_count": 14,
     "metadata": {},
     "output_type": "execute_result"
    }
   ],
   "source": [
    "chain = template | chat | CommaOutputParser()\n",
    "\n",
    "chain.invoke({\n",
    "\t\"max_items\": 10,\n",
    "\t\"question\": \"What are the colors?\"\n",
    "})\n"
   ]
  },
  {
   "cell_type": "code",
   "execution_count": 19,
   "metadata": {},
   "outputs": [],
   "source": [
    "from langchain.callbacks import StreamingStdOutCallbackHandler\n",
    "\n",
    "chat = ChatOpenAI(\n",
    "\tmodel_name=\"gpt-3.5-turbo\",\n",
    "\ttemperature=0.1, \n",
    "\tstreaming=True, \n",
    "\tcallbacks=[StreamingStdOutCallbackHandler()]\n",
    ")\n",
    "\n",
    "chef_prompt = ChatPromptTemplate.from_messages([\n",
    "\t(\"system\", \"You are a professional international chef. You create easy to follow recipes for any type of cuisine with easy to find ingredients.\"),\n",
    "\t(\"human\", \"I want to cook a {cuisine} dish. What is the best recipe for beginner?\"),\n",
    "])\n",
    "\n",
    "chef_chain = chef_prompt | chat"
   ]
  },
  {
   "cell_type": "code",
   "execution_count": 20,
   "metadata": {},
   "outputs": [
    {
     "name": "stdout",
     "output_type": "stream",
     "text": [
      "One of the best Korean dishes for beginners to try is Bibimbap. It's a delicious and colorful mixed rice dish that is easy to make and can be customized with your favorite ingredients. Here's a simple Bibimbap recipe for you to try:\n",
      "\n",
      "Ingredients:\n",
      "- 1 cup cooked white rice\n",
      "- 1 carrot, julienned\n",
      "- 1 zucchini, julienned\n",
      "- 1 cup spinach\n",
      "- 1 cup bean sprouts\n",
      "- 2 eggs\n",
      "- 2 cloves garlic, minced\n",
      "- 2 tbsp soy sauce\n",
      "- 1 tbsp sesame oil\n",
      "- 1 tbsp vegetable oil\n",
      "- Salt and pepper to taste\n",
      "- Gochujang (Korean chili paste), to taste (optional)\n",
      "- Sesame seeds, for garnish\n",
      "\n",
      "Instructions:\n",
      "1. Cook the rice according to package instructions and set aside.\n",
      "2. In a small bowl, mix together the soy sauce, sesame oil, and minced garlic to make the sauce.\n",
      "3. Heat vegetable oil in a pan over medium heat. Add the carrots and zucchini, and stir-fry for 2-3 minutes until slightly softened. Season with salt and pepper. Remove from the pan and set aside.\n",
      "4. In the same pan, add the spinach and bean sprouts. Stir-fry for 1-2 minutes until wilted. Season with salt and pepper. Remove from the pan and set aside.\n",
      "5. In a separate pan, fry the eggs sunny-side up or to your desired doneness.\n",
      "6. To assemble the Bibimbap, divide the cooked rice into bowls. Arrange the cooked vegetables and fried eggs on top of the rice.\n",
      "7. Drizzle the sauce over the Bibimbap and add a dollop of Gochujang if desired.\n",
      "8. Sprinkle sesame seeds on top for garnish.\n",
      "9. Mix everything together before eating to combine all the flavors.\n",
      "\n",
      "Enjoy your homemade Bibimbap!For a vegetarian version of Bibimbap, you can make a few simple ingredient swaps:\n",
      "\n",
      "1. **Eggs**: You can replace the eggs with a vegan alternative such as scrambled tofu or a vegan egg substitute. To make scrambled tofu, crumble firm tofu in a pan and season it with a bit of turmeric for color and salt and pepper for flavor.\n",
      "\n",
      "2. **Soy Sauce**: Make sure to use a vegetarian or vegan soy sauce to keep the dish vegetarian-friendly.\n",
      "\n",
      "3. **Gochujang (Korean chili paste)**: Most Gochujang brands are vegetarian, but it's always good to double-check the ingredients. If you can't find a vegetarian version, you can substitute it with a mixture of sriracha and miso paste for a similar flavor profile.\n",
      "\n",
      "4. **Sesame Oil**: Sesame oil is a key flavor in Bibimbap, but if you don't have it or prefer not to use it, you can substitute it with a neutral oil like grapeseed or avocado oil. You can also add a few drops of toasted sesame oil for a similar nutty flavor.\n",
      "\n",
      "5. **Vegetables**: Feel free to customize the vegetables in the Bibimbap based on your preferences. You can add mushrooms, bell peppers, or any other vegetables you enjoy. Just make sure to julienne or slice them thinly for quick stir-frying.\n",
      "\n",
      "By making these simple swaps, you can enjoy a delicious vegetarian version of Bibimbap while still keeping the traditional flavors intact. Enjoy your homemade vegetarian Bibimbap!"
     ]
    },
    {
     "data": {
      "text/plain": [
       "AIMessageChunk(content=\"For a vegetarian version of Bibimbap, you can make a few simple ingredient swaps:\\n\\n1. **Eggs**: You can replace the eggs with a vegan alternative such as scrambled tofu or a vegan egg substitute. To make scrambled tofu, crumble firm tofu in a pan and season it with a bit of turmeric for color and salt and pepper for flavor.\\n\\n2. **Soy Sauce**: Make sure to use a vegetarian or vegan soy sauce to keep the dish vegetarian-friendly.\\n\\n3. **Gochujang (Korean chili paste)**: Most Gochujang brands are vegetarian, but it's always good to double-check the ingredients. If you can't find a vegetarian version, you can substitute it with a mixture of sriracha and miso paste for a similar flavor profile.\\n\\n4. **Sesame Oil**: Sesame oil is a key flavor in Bibimbap, but if you don't have it or prefer not to use it, you can substitute it with a neutral oil like grapeseed or avocado oil. You can also add a few drops of toasted sesame oil for a similar nutty flavor.\\n\\n5. **Vegetables**: Feel free to customize the vegetables in the Bibimbap based on your preferences. You can add mushrooms, bell peppers, or any other vegetables you enjoy. Just make sure to julienne or slice them thinly for quick stir-frying.\\n\\nBy making these simple swaps, you can enjoy a delicious vegetarian version of Bibimbap while still keeping the traditional flavors intact. Enjoy your homemade vegetarian Bibimbap!\")"
      ]
     },
     "execution_count": 20,
     "metadata": {},
     "output_type": "execute_result"
    }
   ],
   "source": [
    "veg_chef_prompt = ChatPromptTemplate.from_messages([\n",
    "\t(\"system\", \"\"\"\n",
    "\t\tYou are a vegetarian chef specialized on making traditional recipes vegetarian. \n",
    "\t\tYou find alternative ingredients and explain their preparation. \n",
    "\t\tYou don't radically modify the recipe. \n",
    "\t\tIf there is no alternative for a food just say you don't know how to replace it\n",
    "\t\"\"\"),\n",
    "\t(\"human\", \"{recipe}\")\n",
    "])\n",
    "\n",
    "veg_chain = veg_chef_prompt | chat\n",
    "\n",
    "final_chain = {\"recipe\" : chef_chain} | veg_chain\n",
    "\n",
    "final_chain.invoke({\n",
    "\t\"cuisine\": \"korean\",\n",
    "})\n"
   ]
  },
  {
   "cell_type": "code",
   "execution_count": 24,
   "metadata": {},
   "outputs": [
    {
     "name": "stdout",
     "output_type": "stream",
     "text": [
      "AI: \n",
      "        Here is what I know:\n",
      "        Capital: Helsinki\n",
      "        Language: Finnish, Swedish\n",
      "        Food: Rye bread, fish, berries\n",
      "        Currency: Euro"
     ]
    },
    {
     "data": {
      "text/plain": [
       "AIMessageChunk(content='AI: \\n        Here is what I know:\\n        Capital: Helsinki\\n        Language: Finnish, Swedish\\n        Food: Rye bread, fish, berries\\n        Currency: Euro')"
      ]
     },
     "execution_count": 24,
     "metadata": {},
     "output_type": "execute_result"
    }
   ],
   "source": [
    "# Few-shot learning is a technique that allows you to train a model on a small amount of data.\n",
    "from langchain.prompts.few_shot import FewShotPromptTemplate\n",
    "\n",
    "examples = [\n",
    "    {\n",
    "        \"question\": \"What do you know about France?\",\n",
    "        \"answer\": \"\"\"\n",
    "        Here is what I know:\n",
    "        Capital: Paris\n",
    "        Language: French\n",
    "        Food: Wine and Cheese\n",
    "        Currency: Euro\n",
    "        \"\"\",\n",
    "    },\n",
    "    {\n",
    "        \"question\": \"What do you know about Italy?\",\n",
    "        \"answer\": \"\"\"\n",
    "        I know this:\n",
    "        Capital: Rome\n",
    "        Language: Italian\n",
    "        Food: Pizza and Pasta\n",
    "        Currency: Euro\n",
    "        \"\"\",\n",
    "    },\n",
    "    {\n",
    "        \"question\": \"What do you know about Greece?\",\n",
    "        \"answer\": \"\"\"\n",
    "        I know this:\n",
    "        Capital: Athens\n",
    "        Language: Greek\n",
    "        Food: Souvlaki and Feta Cheese\n",
    "        Currency: Euro\n",
    "        \"\"\",\n",
    "    },\n",
    "]\t\t\n",
    "\n",
    "example_prompt = \"\"\"\n",
    "  Human: {question}\n",
    "\tAI: {answer}\n",
    "\"\"\"\n",
    "\n",
    "example_prompt = PromptTemplate.from_template(example_prompt)\n",
    "\n",
    "prompt = FewShotPromptTemplate(\n",
    "\texample_prompt=example_prompt, \n",
    "\texamples=examples,\n",
    "\tsuffix=\"Human: What do you know about {country}?\",\n",
    "    input_variables=[\"country\"]\n",
    ")\n",
    "\n",
    "prompt.format(country=\"Germany\")\n",
    "\n",
    "chain = prompt | chat\n",
    "\n",
    "chain.invoke({\n",
    "    \"country\": \"Finland\"\n",
    "})"
   ]
  },
  {
   "cell_type": "code",
   "execution_count": 27,
   "metadata": {},
   "outputs": [
    {
     "name": "stdout",
     "output_type": "stream",
     "text": [
      "\n",
      "        I know this:\n",
      "        Capital: Ankara\n",
      "        Language: Turkish\n",
      "        Food: Kebabs and Baklava\n",
      "        Currency: Turkish Lira\n",
      "        "
     ]
    },
    {
     "data": {
      "text/plain": [
       "AIMessageChunk(content='\\n        I know this:\\n        Capital: Ankara\\n        Language: Turkish\\n        Food: Kebabs and Baklava\\n        Currency: Turkish Lira\\n        ')"
      ]
     },
     "execution_count": 27,
     "metadata": {},
     "output_type": "execute_result"
    }
   ],
   "source": [
    "from langchain.prompts.few_shot import FewShotChatMessagePromptTemplate\n",
    "\n",
    "examples = [\n",
    "    {\n",
    "        \"country\": \"France?\",\n",
    "        \"answer\": \"\"\"\n",
    "        Here is what I know:\n",
    "        Capital: Paris\n",
    "        Language: French\n",
    "        Food: Wine and Cheese\n",
    "        Currency: Euro\n",
    "        \"\"\",\n",
    "    },\n",
    "    {\n",
    "        \"country\": \"Italy?\",\n",
    "        \"answer\": \"\"\"\n",
    "        I know this:\n",
    "        Capital: Rome\n",
    "        Language: Italian\n",
    "        Food: Pizza and Pasta\n",
    "        Currency: Euro\n",
    "        \"\"\",\n",
    "    },\n",
    "    {\n",
    "        \"country\": \"Greece?\",\n",
    "        \"answer\": \"\"\"\n",
    "        I know this:\n",
    "        Capital: Athens\n",
    "        Language: Greek\n",
    "        Food: Souvlaki and Feta Cheese\n",
    "        Currency: Euro\n",
    "        \"\"\",\n",
    "    },\n",
    "]\t\t\n",
    "\n",
    "example_prompt = ChatPromptTemplate.from_messages([\n",
    "\t(\"human\", \"What do you know about {country}?\"),\n",
    "\t(\"ai\", \"{answer}\")\n",
    "])\n",
    "\n",
    "example_prompt = FewShotChatMessagePromptTemplate(\n",
    "\texample_prompt=example_prompt,\n",
    "\texamples=examples,\n",
    ")\n",
    "\n",
    "final_prompt = ChatPromptTemplate.from_messages([\n",
    "\t(\"system\", \"You are a geography expert.\"),\n",
    "\texample_prompt, # Put the few-shot prompt here\n",
    "\t(\"human\", \"What do you know about {country}?\"),\n",
    "])\n",
    "\n",
    "chain = final_prompt | chat\n",
    "\n",
    "chain.invoke({\"country\": \"Turkey\"})\n"
   ]
  }
 ],
 "metadata": {
  "kernelspec": {
   "display_name": "Python 3 (ipykernel)",
   "language": "python",
   "name": "python3"
  },
  "language_info": {
   "codemirror_mode": {
    "name": "ipython",
    "version": 3
   },
   "file_extension": ".py",
   "mimetype": "text/x-python",
   "name": "python",
   "nbconvert_exporter": "python",
   "pygments_lexer": "ipython3",
   "version": "3.10.11"
  }
 },
 "nbformat": 4,
 "nbformat_minor": 4
}
