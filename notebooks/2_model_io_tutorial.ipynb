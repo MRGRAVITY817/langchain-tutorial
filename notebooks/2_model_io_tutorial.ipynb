{
 "cells": [
  {
   "cell_type": "code",
   "execution_count": 2,
   "metadata": {},
   "outputs": [
    {
     "name": "stdout",
     "output_type": "stream",
     "text": [
      "AI: \n",
      "        Here is what I know:\n",
      "        \n",
      "        Capital: Helsinki\n",
      "        Language: Finnish, Swedish\n",
      "        Food: Rye bread, fish, berries\n",
      "        Currency: Euro"
     ]
    },
    {
     "data": {
      "text/plain": [
       "AIMessageChunk(content='AI: \\n        Here is what I know:\\n        \\n        Capital: Helsinki\\n        Language: Finnish, Swedish\\n        Food: Rye bread, fish, berries\\n        Currency: Euro')"
      ]
     },
     "execution_count": 2,
     "metadata": {},
     "output_type": "execute_result"
    }
   ],
   "source": [
    "# Few-shot learning is a technique that allows you to train a model on a small amount of data.\n",
    "from langchain.prompts.few_shot import FewShotPromptTemplate\n",
    "from langchain.prompts import PromptTemplate\n",
    "from langchain.chat_models import ChatOpenAI\n",
    "from langchain.callbacks import StreamingStdOutCallbackHandler\n",
    "import openai\n",
    "import os\n",
    "from dotenv import load_dotenv, find_dotenv\n",
    "\n",
    "_ = load_dotenv(find_dotenv())\n",
    "\n",
    "openai.api_key  = os.getenv('OPENAI_API_KEY')\n",
    "\n",
    "chat = ChatOpenAI(\n",
    "\tmodel_name=\"gpt-3.5-turbo\",\n",
    "\ttemperature=0.1, \n",
    "\tstreaming=True, \n",
    "\tcallbacks=[StreamingStdOutCallbackHandler()]\n",
    ")\n",
    "\t\n",
    "\n",
    "examples = [\n",
    "    {\n",
    "        \"question\": \"What do you know about France?\",\n",
    "        \"answer\": \"\"\"\n",
    "        Here is what I know:\n",
    "        \n",
    "        Capital: Paris\n",
    "        Language: French\n",
    "        Food: Wine and Cheese\n",
    "        Currency: Euro\n",
    "        \"\"\",\n",
    "    },\n",
    "    {\n",
    "        \"question\": \"What do you know about Italy?\",\n",
    "        \"answer\": \"\"\"\n",
    "        I know this:\n",
    "        Capital: Rome\n",
    "        Language: Italian\n",
    "        Food: Pizza and Pasta\n",
    "        Currency: Euro\n",
    "        \"\"\",\n",
    "    },\n",
    "    {\n",
    "        \"question\": \"What do you know about Greece?\",\n",
    "        \"answer\": \"\"\"\n",
    "        I know this:\n",
    "        Capital: Athens\n",
    "        Language: Greek\n",
    "        Food: Souvlaki and Feta Cheese\n",
    "        Currency: Euro\n",
    "        \"\"\",\n",
    "    },\n",
    "]\t\t\n",
    "\n",
    "example_prompt = \"\"\"\n",
    "  Human: {question}\n",
    "\tAI: {answer}\n",
    "\"\"\"\n",
    "\n",
    "example_prompt = PromptTemplate.from_template(example_prompt)\n",
    "\n",
    "prompt = FewShotPromptTemplate(\n",
    "\texample_prompt=example_prompt, \n",
    "\texamples=examples,\n",
    "\tsuffix=\"Human: What do you know about {country}?\",\n",
    "    input_variables=[\"country\"]\n",
    ")\n",
    "\n",
    "prompt.format(country=\"Germany\")\n",
    "\n",
    "chain = prompt | chat\n",
    "\n",
    "chain.invoke({\n",
    "    \"country\": \"Finland\"\n",
    "})"
   ]
  },
  {
   "cell_type": "code",
   "execution_count": 3,
   "metadata": {},
   "outputs": [
    {
     "name": "stdout",
     "output_type": "stream",
     "text": [
      "\n",
      "        I know this:\n",
      "        Capital: Ankara\n",
      "        Language: Turkish\n",
      "        Food: Kebabs and Baklava\n",
      "        Currency: Turkish Lira\n",
      "        "
     ]
    },
    {
     "data": {
      "text/plain": [
       "AIMessageChunk(content='\\n        I know this:\\n        Capital: Ankara\\n        Language: Turkish\\n        Food: Kebabs and Baklava\\n        Currency: Turkish Lira\\n        ')"
      ]
     },
     "execution_count": 3,
     "metadata": {},
     "output_type": "execute_result"
    }
   ],
   "source": [
    "from langchain.prompts import ChatPromptTemplate\n",
    "from langchain.prompts.few_shot import FewShotChatMessagePromptTemplate\n",
    "\n",
    "examples = [\n",
    "    {\n",
    "        \"country\": \"France?\",\n",
    "        \"answer\": \"\"\"\n",
    "        Here is what I know:\n",
    "        Capital: Paris\n",
    "        Language: French\n",
    "        Food: Wine and Cheese\n",
    "        Currency: Euro\n",
    "        \"\"\",\n",
    "    },\n",
    "    {\n",
    "        \"country\": \"Italy?\",\n",
    "        \"answer\": \"\"\"\n",
    "        I know this:\n",
    "        Capital: Rome\n",
    "        Language: Italian\n",
    "        Food: Pizza and Pasta\n",
    "        Currency: Euro\n",
    "        \"\"\",\n",
    "    },\n",
    "    {\n",
    "        \"country\": \"Greece?\",\n",
    "        \"answer\": \"\"\"\n",
    "        I know this:\n",
    "        Capital: Athens\n",
    "        Language: Greek\n",
    "        Food: Souvlaki and Feta Cheese\n",
    "        Currency: Euro\n",
    "        \"\"\",\n",
    "    },\n",
    "]\t\t\n",
    "\n",
    "example_prompt = ChatPromptTemplate.from_messages([\n",
    "\t(\"human\", \"What do you know about {country}?\"),\n",
    "\t(\"ai\", \"{answer}\")\n",
    "])\n",
    "\n",
    "example_prompt = FewShotChatMessagePromptTemplate(\n",
    "\texample_prompt=example_prompt,\n",
    "\texamples=examples,\n",
    ")\n",
    "\n",
    "final_prompt = ChatPromptTemplate.from_messages([\n",
    "\t(\"system\", \"You are a geography expert.\"),\n",
    "\texample_prompt, # Put the few-shot prompt here\n",
    "\t(\"human\", \"What do you know about {country}?\"),\n",
    "])\n",
    "\n",
    "chain = final_prompt | chat\n",
    "\n",
    "chain.invoke({\"country\": \"Turkey\"})"
   ]
  },
  {
   "cell_type": "code",
   "execution_count": 9,
   "metadata": {},
   "outputs": [
    {
     "data": {
      "text/plain": [
       "'Human: What do you know about France?\\nAI: \\n        Here is what I know:\\n        \\n        Capital: Paris\\n        Language: French\\n        Food: Wine and Cheese\\n        Currency: Euro\\n        \\n\\nHuman: What do you know about Italy?\\nAI: \\n        I know this:\\n        Capital: Rome\\n        Language: Italian\\n        Food: Pizza and Pasta\\n        Currency: Euro\\n        \\n\\nHuman: What do you know about Brazil?'"
      ]
     },
     "execution_count": 9,
     "metadata": {},
     "output_type": "execute_result"
    }
   ],
   "source": [
    "from langchain.prompts.example_selector import LengthBasedExampleSelector\n",
    "\n",
    "examples = [\n",
    "    {\n",
    "        \"question\": \"What do you know about France?\",\n",
    "        \"answer\": \"\"\"\n",
    "        Here is what I know:\n",
    "        \n",
    "        Capital: Paris\n",
    "        Language: French\n",
    "        Food: Wine and Cheese\n",
    "        Currency: Euro\n",
    "        \"\"\",\n",
    "    },\n",
    "    {\n",
    "        \"question\": \"What do you know about Italy?\",\n",
    "        \"answer\": \"\"\"\n",
    "        I know this:\n",
    "        Capital: Rome\n",
    "        Language: Italian\n",
    "        Food: Pizza and Pasta\n",
    "        Currency: Euro\n",
    "        \"\"\",\n",
    "    },\n",
    "    {\n",
    "        \"question\": \"What do you know about Greece?\",\n",
    "        \"answer\": \"\"\"\n",
    "        I know this:\n",
    "        Capital: Athens\n",
    "        Language: Greek\n",
    "        Food: Souvlaki and Feta Cheese\n",
    "        Currency: Euro\n",
    "        \"\"\",\n",
    "    },\n",
    "]\t\t\n",
    "\n",
    "example_prompt = PromptTemplate.from_template(\"Human: {question}\\nAI: {answer}\")\n",
    "\n",
    "example_selector = LengthBasedExampleSelector(\n",
    "    examples=examples,\n",
    "    example_prompt=example_prompt,\n",
    "    max_length=180,\n",
    ")\n",
    "\n",
    "prompt = FewShotPromptTemplate(\n",
    "    example_prompt=example_prompt,\n",
    "    example_selector=example_selector,\n",
    "    suffix=\"Human: What do you know about {country}?\",\n",
    "    input_variables=[\"country\"]\n",
    ")\n",
    "\n",
    "prompt.format(country=\"Brazil\")\n"
   ]
  },
  {
   "cell_type": "code",
   "execution_count": 14,
   "metadata": {},
   "outputs": [
    {
     "data": {
      "text/plain": [
       "'Human: What do you know about Italy?\\nAI: \\n        I know this:\\n        Capital: Rome\\n        Language: Italian\\n        Food: Pizza and Pasta\\n        Currency: Euro\\n        \\n\\nHuman: What do you know about Brazil?'"
      ]
     },
     "execution_count": 14,
     "metadata": {},
     "output_type": "execute_result"
    }
   ],
   "source": [
    "from langchain.prompts.example_selector.base import BaseExampleSelector\n",
    "\n",
    "class RandomExampleSelector(BaseExampleSelector):\n",
    "    def __init__(self, examples):\n",
    "        self.examples = examples\n",
    "\n",
    "    def add_example(self, example):\n",
    "        self.examples.append(example)\n",
    "        \n",
    "    def select_examples(self, input_examples):\n",
    "        from random import choice\n",
    "        return [choice(self.examples)]\n",
    "\n",
    "example_selector = RandomExampleSelector(examples=examples)\n",
    "\n",
    "prompt = FewShotPromptTemplate(\n",
    "    example_prompt=example_prompt,\n",
    "    example_selector=example_selector,\n",
    "    suffix=\"Human: What do you know about {country}?\",\n",
    "    input_variables=[\"country\"]\n",
    ")\n",
    "\n",
    "prompt.format(country=\"Brazil\")"
   ]
  },
  {
   "cell_type": "code",
   "execution_count": 21,
   "metadata": {},
   "outputs": [
    {
     "data": {
      "text/plain": [
       "('What is the capital of Germany?', 'What are the ingredients in Kebab?')"
      ]
     },
     "execution_count": 21,
     "metadata": {},
     "output_type": "execute_result"
    }
   ],
   "source": [
    "from langchain.prompts import load_prompt\n",
    "\n",
    "prompt = load_prompt(\"./prompt.json\")\n",
    "a = prompt.format(country=\"Germany\")\n",
    "\n",
    "yaml_prompt = load_prompt(\"./prompt.yaml\")\n",
    "b = yaml_prompt.format(food=\"Kebab\")\n",
    "\n",
    "a, b"
   ]
  },
  {
   "cell_type": "code",
   "execution_count": 25,
   "metadata": {},
   "outputs": [
    {
     "data": {
      "text/plain": [
       "'\\n    \\n    You are a role playing assistant.\\n    And you are impersonating a Pirate\\n\\n                                     \\n    \\n    This is an example of how you talk:\\n\\n    Human: What is your location?\\n    You: Arrrg! That is a secret!! Arg!!\\n\\n                              \\n    \\n    Start now!\\n\\n    Human: What is your fav food?\\n    You:\\n\\n'"
      ]
     },
     "execution_count": 25,
     "metadata": {},
     "output_type": "execute_result"
    }
   ],
   "source": [
    "from langchain.prompts.pipeline import PipelinePromptTemplate\n",
    "\n",
    "intro = PromptTemplate.from_template(\n",
    "    \"\"\"\n",
    "    You are a role playing assistant.\n",
    "    And you are impersonating a {character}\n",
    "\"\"\"\n",
    ")\n",
    "\n",
    "example = PromptTemplate.from_template(\n",
    "    \"\"\"\n",
    "    This is an example of how you talk:\n",
    "\n",
    "    Human: {example_question}\n",
    "    You: {example_answer}\n",
    "\"\"\"\n",
    ")\n",
    "\n",
    "start = PromptTemplate.from_template(\n",
    "    \"\"\"\n",
    "    Start now!\n",
    "\n",
    "    Human: {question}\n",
    "    You:\n",
    "\"\"\"\n",
    ")\n",
    "\n",
    "final = PromptTemplate.from_template(\n",
    "    \"\"\"\n",
    "    {intro}\n",
    "                                     \n",
    "    {example}\n",
    "                              \n",
    "    {start}\n",
    "\"\"\"\n",
    ")\n",
    "\n",
    "prompts = [\n",
    "    (\"intro\", intro),\n",
    "    (\"example\", example),\n",
    "    (\"start\", start)\n",
    "]\n",
    "full_prompt = PipelinePromptTemplate(final_prompt=final, pipeline_prompts=prompts)\n",
    "\n",
    "full_prompt.format(\n",
    "    character=\"Pirate\",\n",
    "    example_question=\"What is your location?\",\n",
    "    example_answer=\"Arrrg! That is a secret!! Arg!!\",\n",
    "    question=\"What is your fav food?\"\n",
    ")\n",
    "\n"
   ]
  },
  {
   "cell_type": "code",
   "execution_count": 27,
   "metadata": {},
   "outputs": [
    {
     "name": "stdout",
     "output_type": "stream",
     "text": [
      "\u001b[32;1m\u001b[1;3m[llm/start]\u001b[0m \u001b[1m[1:llm:ChatOpenAI] Entering LLM run with input:\n",
      "\u001b[0m{\n",
      "  \"prompts\": [\n",
      "    \"Human: How to make a Kimchi-fried rice?\"\n",
      "  ]\n",
      "}\n",
      "\u001b[36;1m\u001b[1;3m[llm/end]\u001b[0m \u001b[1m[1:llm:ChatOpenAI] [7.34s] Exiting LLM run with output:\n",
      "\u001b[0m{\n",
      "  \"generations\": [\n",
      "    [\n",
      "      {\n",
      "        \"text\": \"To make Kimchi-fried rice, you will need the following ingredients:\\n\\n- 2 cups cooked rice\\n- 1 cup chopped kimchi\\n- 2 tablespoons kimchi juice\\n- 1 tablespoon soy sauce\\n- 1 tablespoon sesame oil\\n- 1 tablespoon vegetable oil\\n- 1/2 cup diced onion\\n- 1/2 cup diced carrots\\n- 1/2 cup diced bell pepper\\n- 2 cloves garlic, minced\\n- 2 green onions, chopped\\n- 2 eggs\\n- Salt and pepper to taste\\n\\nInstructions:\\n\\n1. Heat vegetable oil in a large skillet over medium heat. Add diced onion, carrots, bell pepper, and garlic. Cook until vegetables are tender, about 5 minutes.\\n\\n2. Add chopped kimchi and cook for another 2-3 minutes.\\n\\n3. Push the vegetables and kimchi to one side of the skillet and add the cooked rice to the other side. Break up any clumps of rice with a spatula.\\n\\n4. Add soy sauce, kimchi juice, and sesame oil to the rice. Mix everything together and cook for another 2-3 minutes.\\n\\n5. Push the rice to one side of the skillet and crack the eggs into the empty side. Scramble the eggs until cooked through, then mix them into the rice.\\n\\n6. Add chopped green onions and season with salt and pepper to taste. Cook for another minute or two, stirring constantly.\\n\\n7. Serve hot and enjoy your delicious Kimchi-fried rice!\",\n",
      "        \"generation_info\": {\n",
      "          \"finish_reason\": \"stop\"\n",
      "        },\n",
      "        \"type\": \"ChatGeneration\",\n",
      "        \"message\": {\n",
      "          \"lc\": 1,\n",
      "          \"type\": \"constructor\",\n",
      "          \"id\": [\n",
      "            \"langchain\",\n",
      "            \"schema\",\n",
      "            \"messages\",\n",
      "            \"AIMessage\"\n",
      "          ],\n",
      "          \"kwargs\": {\n",
      "            \"content\": \"To make Kimchi-fried rice, you will need the following ingredients:\\n\\n- 2 cups cooked rice\\n- 1 cup chopped kimchi\\n- 2 tablespoons kimchi juice\\n- 1 tablespoon soy sauce\\n- 1 tablespoon sesame oil\\n- 1 tablespoon vegetable oil\\n- 1/2 cup diced onion\\n- 1/2 cup diced carrots\\n- 1/2 cup diced bell pepper\\n- 2 cloves garlic, minced\\n- 2 green onions, chopped\\n- 2 eggs\\n- Salt and pepper to taste\\n\\nInstructions:\\n\\n1. Heat vegetable oil in a large skillet over medium heat. Add diced onion, carrots, bell pepper, and garlic. Cook until vegetables are tender, about 5 minutes.\\n\\n2. Add chopped kimchi and cook for another 2-3 minutes.\\n\\n3. Push the vegetables and kimchi to one side of the skillet and add the cooked rice to the other side. Break up any clumps of rice with a spatula.\\n\\n4. Add soy sauce, kimchi juice, and sesame oil to the rice. Mix everything together and cook for another 2-3 minutes.\\n\\n5. Push the rice to one side of the skillet and crack the eggs into the empty side. Scramble the eggs until cooked through, then mix them into the rice.\\n\\n6. Add chopped green onions and season with salt and pepper to taste. Cook for another minute or two, stirring constantly.\\n\\n7. Serve hot and enjoy your delicious Kimchi-fried rice!\",\n",
      "            \"additional_kwargs\": {}\n",
      "          }\n",
      "        }\n",
      "      }\n",
      "    ]\n",
      "  ],\n",
      "  \"llm_output\": {\n",
      "    \"token_usage\": {\n",
      "      \"prompt_tokens\": 17,\n",
      "      \"completion_tokens\": 310,\n",
      "      \"total_tokens\": 327\n",
      "    },\n",
      "    \"model_name\": \"gpt-3.5-turbo\",\n",
      "    \"system_fingerprint\": \"fp_3b956da36b\"\n",
      "  },\n",
      "  \"run\": null\n",
      "}\n"
     ]
    },
    {
     "data": {
      "text/plain": [
       "'To make Kimchi-fried rice, you will need the following ingredients:\\n\\n- 2 cups cooked rice\\n- 1 cup chopped kimchi\\n- 2 tablespoons kimchi juice\\n- 1 tablespoon soy sauce\\n- 1 tablespoon sesame oil\\n- 1 tablespoon vegetable oil\\n- 1/2 cup diced onion\\n- 1/2 cup diced carrots\\n- 1/2 cup diced bell pepper\\n- 2 cloves garlic, minced\\n- 2 green onions, chopped\\n- 2 eggs\\n- Salt and pepper to taste\\n\\nInstructions:\\n\\n1. Heat vegetable oil in a large skillet over medium heat. Add diced onion, carrots, bell pepper, and garlic. Cook until vegetables are tender, about 5 minutes.\\n\\n2. Add chopped kimchi and cook for another 2-3 minutes.\\n\\n3. Push the vegetables and kimchi to one side of the skillet and add the cooked rice to the other side. Break up any clumps of rice with a spatula.\\n\\n4. Add soy sauce, kimchi juice, and sesame oil to the rice. Mix everything together and cook for another 2-3 minutes.\\n\\n5. Push the rice to one side of the skillet and crack the eggs into the empty side. Scramble the eggs until cooked through, then mix them into the rice.\\n\\n6. Add chopped green onions and season with salt and pepper to taste. Cook for another minute or two, stirring constantly.\\n\\n7. Serve hot and enjoy your delicious Kimchi-fried rice!'"
      ]
     },
     "execution_count": 27,
     "metadata": {},
     "output_type": "execute_result"
    }
   ],
   "source": [
    "from langchain.globals import set_llm_cache, set_debug\n",
    "from langchain.cache import InMemoryCache\n",
    "\n",
    "set_llm_cache(InMemoryCache())\n",
    "set_debug(True)\n",
    "\n",
    "chat = ChatOpenAI(temperature=0.1)\n",
    "\n",
    "chat.predict(\"How to make a Kimchi-fried rice?\")"
   ]
  },
  {
   "cell_type": "code",
   "execution_count": 28,
   "metadata": {},
   "outputs": [
    {
     "name": "stdout",
     "output_type": "stream",
     "text": [
      "\u001b[32;1m\u001b[1;3m[llm/start]\u001b[0m \u001b[1m[1:llm:ChatOpenAI] Entering LLM run with input:\n",
      "\u001b[0m{\n",
      "  \"prompts\": [\n",
      "    \"Human: How to make a Kimchi-fried rice?\"\n",
      "  ]\n",
      "}\n",
      "\u001b[36;1m\u001b[1;3m[llm/end]\u001b[0m \u001b[1m[1:llm:ChatOpenAI] [1ms] Exiting LLM run with output:\n",
      "\u001b[0m{\n",
      "  \"generations\": [\n",
      "    [\n",
      "      {\n",
      "        \"text\": \"To make Kimchi-fried rice, you will need the following ingredients:\\n\\n- 2 cups cooked rice\\n- 1 cup chopped kimchi\\n- 2 tablespoons kimchi juice\\n- 1 tablespoon soy sauce\\n- 1 tablespoon sesame oil\\n- 1 tablespoon vegetable oil\\n- 1/2 cup diced onion\\n- 1/2 cup diced carrots\\n- 1/2 cup diced bell pepper\\n- 2 cloves garlic, minced\\n- 2 green onions, chopped\\n- 2 eggs\\n- Salt and pepper to taste\\n\\nInstructions:\\n\\n1. Heat vegetable oil in a large skillet over medium heat. Add diced onion, carrots, bell pepper, and garlic. Cook until vegetables are tender, about 5 minutes.\\n\\n2. Add chopped kimchi and cook for another 2-3 minutes.\\n\\n3. Push the vegetables and kimchi to one side of the skillet and add the cooked rice to the other side. Break up any clumps of rice with a spatula.\\n\\n4. Add soy sauce, kimchi juice, and sesame oil to the rice. Mix everything together and cook for another 2-3 minutes.\\n\\n5. Push the rice to one side of the skillet and crack the eggs into the empty side. Scramble the eggs until cooked through, then mix them into the rice.\\n\\n6. Add chopped green onions and season with salt and pepper to taste. Cook for another minute or two, stirring constantly.\\n\\n7. Serve hot and enjoy your delicious Kimchi-fried rice!\",\n",
      "        \"generation_info\": {\n",
      "          \"finish_reason\": \"stop\"\n",
      "        },\n",
      "        \"type\": \"ChatGeneration\",\n",
      "        \"message\": {\n",
      "          \"lc\": 1,\n",
      "          \"type\": \"constructor\",\n",
      "          \"id\": [\n",
      "            \"langchain\",\n",
      "            \"schema\",\n",
      "            \"messages\",\n",
      "            \"AIMessage\"\n",
      "          ],\n",
      "          \"kwargs\": {\n",
      "            \"content\": \"To make Kimchi-fried rice, you will need the following ingredients:\\n\\n- 2 cups cooked rice\\n- 1 cup chopped kimchi\\n- 2 tablespoons kimchi juice\\n- 1 tablespoon soy sauce\\n- 1 tablespoon sesame oil\\n- 1 tablespoon vegetable oil\\n- 1/2 cup diced onion\\n- 1/2 cup diced carrots\\n- 1/2 cup diced bell pepper\\n- 2 cloves garlic, minced\\n- 2 green onions, chopped\\n- 2 eggs\\n- Salt and pepper to taste\\n\\nInstructions:\\n\\n1. Heat vegetable oil in a large skillet over medium heat. Add diced onion, carrots, bell pepper, and garlic. Cook until vegetables are tender, about 5 minutes.\\n\\n2. Add chopped kimchi and cook for another 2-3 minutes.\\n\\n3. Push the vegetables and kimchi to one side of the skillet and add the cooked rice to the other side. Break up any clumps of rice with a spatula.\\n\\n4. Add soy sauce, kimchi juice, and sesame oil to the rice. Mix everything together and cook for another 2-3 minutes.\\n\\n5. Push the rice to one side of the skillet and crack the eggs into the empty side. Scramble the eggs until cooked through, then mix them into the rice.\\n\\n6. Add chopped green onions and season with salt and pepper to taste. Cook for another minute or two, stirring constantly.\\n\\n7. Serve hot and enjoy your delicious Kimchi-fried rice!\",\n",
      "            \"additional_kwargs\": {}\n",
      "          }\n",
      "        }\n",
      "      }\n",
      "    ]\n",
      "  ],\n",
      "  \"llm_output\": null,\n",
      "  \"run\": null\n",
      "}\n"
     ]
    },
    {
     "data": {
      "text/plain": [
       "'To make Kimchi-fried rice, you will need the following ingredients:\\n\\n- 2 cups cooked rice\\n- 1 cup chopped kimchi\\n- 2 tablespoons kimchi juice\\n- 1 tablespoon soy sauce\\n- 1 tablespoon sesame oil\\n- 1 tablespoon vegetable oil\\n- 1/2 cup diced onion\\n- 1/2 cup diced carrots\\n- 1/2 cup diced bell pepper\\n- 2 cloves garlic, minced\\n- 2 green onions, chopped\\n- 2 eggs\\n- Salt and pepper to taste\\n\\nInstructions:\\n\\n1. Heat vegetable oil in a large skillet over medium heat. Add diced onion, carrots, bell pepper, and garlic. Cook until vegetables are tender, about 5 minutes.\\n\\n2. Add chopped kimchi and cook for another 2-3 minutes.\\n\\n3. Push the vegetables and kimchi to one side of the skillet and add the cooked rice to the other side. Break up any clumps of rice with a spatula.\\n\\n4. Add soy sauce, kimchi juice, and sesame oil to the rice. Mix everything together and cook for another 2-3 minutes.\\n\\n5. Push the rice to one side of the skillet and crack the eggs into the empty side. Scramble the eggs until cooked through, then mix them into the rice.\\n\\n6. Add chopped green onions and season with salt and pepper to taste. Cook for another minute or two, stirring constantly.\\n\\n7. Serve hot and enjoy your delicious Kimchi-fried rice!'"
      ]
     },
     "execution_count": 28,
     "metadata": {},
     "output_type": "execute_result"
    }
   ],
   "source": [
    "chat.predict(\"How to make a Kimchi-fried rice?\")"
   ]
  },
  {
   "cell_type": "code",
   "execution_count": null,
   "metadata": {},
   "outputs": [],
   "source": [
    "f"
   ]
  }
 ],
 "metadata": {
  "kernelspec": {
   "display_name": "Python 3 (ipykernel)",
   "language": "python",
   "name": "python3"
  },
  "language_info": {
   "codemirror_mode": {
    "name": "ipython",
    "version": 3
   },
   "file_extension": ".py",
   "mimetype": "text/x-python",
   "name": "python",
   "nbconvert_exporter": "python",
   "pygments_lexer": "ipython3",
   "version": "3.11.6"
  }
 },
 "nbformat": 4,
 "nbformat_minor": 4
}
